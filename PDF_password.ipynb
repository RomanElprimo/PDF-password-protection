{
  "nbformat": 4,
  "nbformat_minor": 0,
  "metadata": {
    "colab": {
      "provenance": []
    },
    "kernelspec": {
      "name": "python3",
      "display_name": "Python 3"
    },
    "language_info": {
      "name": "python"
    }
  },
  "cells": [
    {
      "cell_type": "code",
      "source": [
        "!pip install PyPDF2"
      ],
      "metadata": {
        "colab": {
          "base_uri": "https://localhost:8080/"
        },
        "id": "0YTWMExurmRN",
        "outputId": "9c3bd9aa-e312-4aac-ae19-0c2424c8b42b"
      },
      "execution_count": 2,
      "outputs": [
        {
          "output_type": "stream",
          "name": "stdout",
          "text": [
            "Looking in indexes: https://pypi.org/simple, https://us-python.pkg.dev/colab-wheels/public/simple/\n",
            "Collecting PyPDF2\n",
            "  Downloading pypdf2-3.0.1-py3-none-any.whl (232 kB)\n",
            "\u001b[2K     \u001b[90m━━━━━━━━━━━━━━━━━━━━━━━━━━━━━━━━━━━━━━━\u001b[0m \u001b[32m232.6/232.6 kB\u001b[0m \u001b[31m5.6 MB/s\u001b[0m eta \u001b[36m0:00:00\u001b[0m\n",
            "\u001b[?25hInstalling collected packages: PyPDF2\n",
            "Successfully installed PyPDF2-3.0.1\n"
          ]
        }
      ]
    },
    {
      "cell_type": "code",
      "execution_count": 17,
      "metadata": {
        "colab": {
          "base_uri": "https://localhost:8080/"
        },
        "id": "zExPvqDBnKuF",
        "outputId": "aeb90511-20e7-43ae-d317-aaa92f20bd0d"
      },
      "outputs": [
        {
          "name": "stdout",
          "output_type": "stream",
          "text": [
            "Введите название пдф-файла: CG для FUCC x ДРТ (2).pdf\n",
            "Введите пароль: ··········\n"
          ]
        }
      ],
      "source": [
        "from PyPDF2 import PdfWriter, PdfReader\n",
        "from getpass import getpass\n",
        "\n",
        "pdfwriter = PdfWriter()\n",
        "pdf = PdfReader(input('Введите название пдф-файла: '))\n",
        "\n",
        "for page in range(len(pdf.pages)):\n",
        "  pdfwriter.add_page(pdf.pages[page])\n",
        "\n",
        "password = getpass(prompt = 'Введите пароль: ')\n",
        "pdfwriter.encrypt(password)\n",
        "\n",
        "with open('protected.pdf', 'wb') as file:\n",
        "  pdfwriter.write(file)"
      ]
    },
    {
      "cell_type": "markdown",
      "source": [],
      "metadata": {
        "id": "Emy7GbFtr7tH"
      }
    }
  ]
}